{
  "cells": [
    {
      "cell_type": "markdown",
      "metadata": {
        "id": "g8RvUdJG496P"
      },
      "source": [
        "# Hackathon - FIAP: IA para Devs (Fase 5)\n",
        "\n",
        "###Grupo 38\n",
        "- Rafael Silva Souza\n",
        "- Rodrigo de Freitas Ornellas\n",
        "\n",
        "\n",
        "---\n",
        "\n",
        "### 🔗 Código Github\n",
        "\n",
        "\n",
        "\n",
        "https://github.com/rafaelsouza-tech/hackathon-fase-5\n",
        "\n",
        "\n",
        "### 🔗 Vídeo de apresentação\n",
        "https://youtu.be/\n",
        "\n",
        "---\n",
        "\n",
        "### 1. Introdução\n",
        "\n",
        "#### Contexto e Motivação\n",
        "\n",
        "Com o avanço das tecnologias de **visão computacional** e a crescente demanda por **monitoramento inteligente**, a utilização de **inteligência artificial para segurança** tornou-se essencial. No cenário atual, câmeras de vigilância são amplamente utilizadas para monitoramento de estabelecimentos comerciais, espaços públicos e áreas privadas. No entanto, a análise manual de imagens e vídeos pode ser **ineficiente e suscetível a falhas humanas**, tornando necessária a automação desse processo.\n",
        "\n",
        "A **FIAP VisionGuard**, empresa especializada em **monitoramento inteligente**, identificou a necessidade de uma solução inovadora para **detectar objetos cortantes** (como **facas e tesouras**) em vídeos de segurança e emitir **alertas automáticos**. Essa tecnologia pode ser um diferencial para aumentar a segurança de clientes e colaboradores, prevenindo incidentes e permitindo ações rápidas em situações de risco.\n",
        "\n",
        "O **Hackathon da Fase 5** propõe a construção de um **MVP (Minimum Viable Product)** que utiliza técnicas de **visão computacional** e **aprendizado de máquina** para identificar objetos cortantes em vídeos e gerar alertas em tempo real. Esse desafio reforça a aplicação prática de conceitos estudados, promovendo uma experiência hands-on no desenvolvimento de soluções de IA para segurança.\n",
        "\n",
        "---\n",
        "\n",
        "#### Objetivos do Projeto\n",
        "\n",
        "O principal objetivo deste projeto é **validar a viabilidade da detecção automatizada de objetos cortantes em vídeos** por meio de um MVP funcional. Para isso, serão desenvolvidas as seguintes funcionalidades:\n",
        "\n",
        "1. **Detecção de Objetos Cortantes**: Implementação de um modelo de IA para identificar facas e tesouras em vídeos de monitoramento.\n",
        "2. **Processamento de Vídeo em Tempo Real**: Aplicação de técnicas para análise eficiente de cada frame, garantindo rapidez na detecção.\n",
        "3. **Sistema de Alertas**: Implementação de um mecanismo que envia alertas automáticos quando um objeto cortante for detectado.\n",
        "4. **Geração de Registros de Detecção**: Armazenamento dos momentos críticos do vídeo em forma de capturas de tela para posterior análise.\n",
        "5. **Validação da Viabilidade**: Analisar os resultados obtidos para verificar se a solução é confiável e pode ser utilizada em ambientes reais.\n",
        "\n",
        "---\n",
        "\n",
        "#### Estrutura do Projeto\n",
        "\n",
        "Este documento está organizado da seguinte forma:\n",
        "\n",
        "1. **Introdução**: Apresenta o contexto, motivação e objetivos do projeto.\n",
        "2. **Descrição do Problema**: Explica o problema a ser resolvido e sua importância na segurança de ambientes monitorados.\n",
        "3. **Fundamentação Teórica**: Explora conceitos de **visão computacional, detecção de objetos e monitoramento inteligente**.\n",
        "4. **Metodologia**: Descreve o fluxo de desenvolvimento, incluindo o **uso de YOLOv8**, pré-processamento e critérios de avaliação.\n",
        "5. **Implementação**: Detalha as **ferramentas utilizadas, estrutura do código e desafios enfrentados**.\n",
        "6. **Conclusão**: Resume os aprendizados do projeto e propõe melhorias futuras.\n",
        "\n",
        "Com esta introdução, estabelecemos as bases para o desenvolvimento do MVP, enfatizando a relevância do problema e os benefícios da solução proposta. A seguir, será apresentada uma descrição detalhada do problema e os desafios envolvidos na implementação."
      ]
    },
    {
      "cell_type": "markdown",
      "metadata": {
        "id": "T-suK2_wqbop"
      },
      "source": [
        "### 2. Descrição do Problema\n",
        "\n",
        "#### Definição do Problema\n",
        "\n",
        "A segurança de estabelecimentos comerciais, instituições e espaços públicos depende, em grande parte, da capacidade de **identificar rapidamente possíveis ameaças**. Sistemas de monitoramento por vídeo são amplamente utilizados, mas a análise manual desses vídeos pode ser **lenta, ineficiente e suscetível a falhas humanas**.\n",
        "\n",
        "O problema abordado neste projeto é a **detecção automática de objetos cortantes**, como **facas e tesouras**, em vídeos de monitoramento. A proposta é desenvolver uma solução baseada em **inteligência artificial** que analise vídeos e emita **alertas em tempo real** sempre que um objeto cortante for detectado.\n",
        "\n",
        "As principais funcionalidades esperadas para solucionar esse problema são:\n",
        "\n",
        "1. **Detectar facas e tesouras em vídeos de monitoramento usando IA.**  \n",
        "2. **Analisar a proximidade desses objetos de pessoas para determinar o nível de risco.**  \n",
        "3. **Emitir alertas automáticos quando uma possível ameaça for identificada.**  \n",
        "4. **Gerar registros visuais das detecções, salvando capturas de tela e um vídeo processado.**  \n",
        "\n",
        "---\n",
        "\n",
        "#### Importância do Problema para Monitoramento de Segurança\n",
        "\n",
        "A relevância dessa solução pode ser observada em diversos cenários críticos, impactando áreas como:\n",
        "\n",
        "1. **Prevenção de Crimes e Violência:**  \n",
        "   - Identificação precoce de ameaças em lojas, escolas e espaços públicos.  \n",
        "   - Possibilidade de alertar equipes de segurança antes de um incidente ocorrer.  \n",
        "\n",
        "2. **Segurança em Ambientes Comerciais:**  \n",
        "   - Proteção de funcionários e clientes em supermercados, shoppings e bancos.  \n",
        "   - Redução do tempo de resposta da equipe de segurança.  \n",
        "\n",
        "3. **Monitoramento de Locais Sensíveis:**  \n",
        "   - Aplicação em **escolas, hospitais e aeroportos**, onde a segurança é prioridade.  \n",
        "   - Integração com **sistemas de segurança existentes** para otimizar a resposta a incidentes.  \n",
        "\n",
        "4. **Automação e Eficiência na Análise de Vídeos:**  \n",
        "   - Redução da **dependência de operadores humanos** para análise manual de câmeras.  \n",
        "   - **Filtragem automática** de eventos suspeitos para reduzir a carga de trabalho da equipe de segurança.  \n",
        "\n",
        "---\n",
        "\n",
        "#### Abordagem para Resolução do Problema\n",
        "\n",
        "Para desenvolver uma solução eficaz, seguimos um fluxo estruturado que combina técnicas de **visão computacional e aprendizado de máquina**. As principais etapas do processo são:\n",
        "\n",
        "1. **Processamento do Vídeo**  \n",
        "   - Captura do vídeo de monitoramento enviado pelo usuário.  \n",
        "   - Extração de **frames** para análise com IA.  \n",
        "\n",
        "2. **Detecção de Objetos Cortantes**  \n",
        "   - Uso de **YOLOv8**, um modelo de **deep learning** otimizado para reconhecimento de objetos.  \n",
        "   - Identificação de **facas e tesouras** com base em um banco de dados pré-treinado.  \n",
        "   - Aplicação de **filtros de confiança e sobreposição (IoU)** para reduzir falsos positivos.  \n",
        "\n",
        "3. **Geração de Alertas**  \n",
        "   - Armazenamento de **imagens dos frames** onde objetos cortantes foram detectados.  \n",
        "   - Implementação de **um sistema de notificações (e-mail ou logs)** para alertar operadores de segurança.  \n",
        "   - Aplicação de um **cooldown de alertas** para evitar notificações excessivas.  \n",
        "\n",
        "4. **Geração de Relatórios e Vídeo Processado**  \n",
        "   - Criação de um **vídeo processado com marcações visuais** dos objetos detectados.  \n",
        "   - Exportação de **frames críticos** como evidências para análise posterior.  \n",
        "\n",
        "---\n",
        "\n",
        "Com essa abordagem estruturada, garantimos que o sistema seja capaz de **detectar ameaças com precisão**, minimizar falsos positivos e **integrar-se a sistemas de segurança já existentes**. A próxima seção abordará a fundamentação teórica e as tecnologias utilizadas no projeto."
      ]
    },
    {
      "cell_type": "markdown",
      "metadata": {
        "id": "mJkK0kUUq3N1"
      },
      "source": [
        "### 3. Fundamentação Teórica\n",
        "\n",
        "#### Análise de Vídeo Automatizada\n",
        "\n",
        "A **análise de vídeo automatizada** utiliza **inteligência artificial e visão computacional** para extrair informações relevantes de vídeos em tempo real. Com os avanços tecnológicos, tornou-se possível detectar padrões, reconhecer objetos e emitir alertas de maneira eficiente, reduzindo a necessidade de supervisão humana constante.\n",
        "\n",
        "No contexto da segurança, essa abordagem é essencial para a **prevenção de incidentes**, pois permite **identificar ameaças potenciais, como a presença de facas e tesouras em ambientes monitorados**. A detecção automatizada desses objetos pode aumentar a eficácia dos sistemas de vigilância, tornando-os **mais rápidos e inteligentes**.\n",
        "\n",
        "---\n",
        "\n",
        "#### Detecção de Objetos com IA\n",
        "\n",
        "A detecção de objetos é uma técnica da **visão computacional** que permite identificar e classificar objetos em imagens e vídeos. No projeto, utilizamos o modelo **YOLOv8**, que é amplamente reconhecido por sua eficiência e velocidade.\n",
        "\n",
        "A detecção ocorre em três etapas principais:\n",
        "\n",
        "1. **Extração de Recursos**  \n",
        "   - O modelo YOLO recebe um **frame do vídeo** e identifica as regiões onde há objetos de interesse.\n",
        "   \n",
        "2. **Classificação**  \n",
        "   - Cada objeto identificado é comparado com as classes aprendidas pelo modelo, que retorna uma **probabilidade de acerto**.\n",
        "\n",
        "3. **Marcação dos Objetos**  \n",
        "   - Se o modelo identificar um **objeto cortante**, ele é marcado no frame e um **alerta pode ser gerado**.\n",
        "\n",
        "O YOLO é uma das soluções mais avançadas para tarefas de **detecção em tempo real**, sendo utilizado em sistemas de segurança, direção autônoma e análise de comportamento.\n",
        "\n",
        "---\n",
        "\n",
        "#### Processamento de Vídeo para Detecção\n",
        "\n",
        "O processamento de vídeo envolve a análise de **cada frame individualmente** para detectar padrões e gerar informações úteis. No projeto, utilizamos **OpenCV** para manipulação dos vídeos e extração dos frames.\n",
        "\n",
        "As principais etapas do processamento incluem:\n",
        "\n",
        "1. **Captura de Frames**  \n",
        "   - O vídeo é lido **frame a frame** para permitir a análise sequencial.  \n",
        "\n",
        "2. **Pré-processamento das Imagens**  \n",
        "   - Conversão para formato adequado ao modelo YOLO.  \n",
        "   - Ajustes de brilho e contraste para melhorar a detecção.  \n",
        "\n",
        "3. **Execução do Modelo de IA**  \n",
        "   - YOLO analisa cada frame e identifica possíveis objetos cortantes.  \n",
        "\n",
        "4. **Geração de Resultados**  \n",
        "   - Quando um objeto cortante é detectado, o frame é **salvo como um alerta**.  \n",
        "   - A informação pode ser armazenada e enviada para um **sistema de monitoramento**.  \n",
        "\n",
        "---\n",
        "\n",
        "#### Algoritmo de Detecção de Risco\n",
        "\n",
        "Para reduzir **falsos positivos** e aumentar a precisão do sistema, implementamos um **algoritmo de detecção de risco** baseado em duas regras:\n",
        "\n",
        "1. **Proximidade com Pessoas**  \n",
        "   - O objeto cortante é analisado em relação à proximidade com um ser humano.  \n",
        "   - Caso haja uma **sobreposição** significativa (métrica IoU), um alerta é gerado.  \n",
        "\n",
        "2. **Filtro de Confiança**  \n",
        "   - Apenas detecções com **alta confiança (acima de 25%)** são consideradas.  \n",
        "   - Se a sobreposição for alta, um **ajuste dinâmico** reduz o limiar de confiança, permitindo mais alertas quando necessário.  \n",
        "\n",
        "Esse método garante que **apenas objetos potencialmente perigosos sejam sinalizados**, evitando alertas desnecessários em situações normais.\n",
        "\n",
        "---\n",
        "\n",
        "#### Geração de Alertas e Notificações\n",
        "\n",
        "O sistema de alerta é um componente essencial do projeto, permitindo que a equipe de segurança seja notificada **instantaneamente** quando um objeto cortante for detectado.\n",
        "\n",
        "A estratégia utilizada inclui:\n",
        "\n",
        "1. **Captura do Frame do Alerta**  \n",
        "   - O frame onde o objeto foi detectado é salvo e armazenado.  \n",
        "\n",
        "2. **Registro com Timestamp**  \n",
        "   - O sistema anexa um **carimbo de tempo** para indicar exatamente quando a detecção ocorreu.  \n",
        "\n",
        "3. **Envio de Notificação (E-mail ou Log)**  \n",
        "   - Um e-mail pode ser enviado para alertar a equipe de segurança.  \n",
        "\n",
        "4. **Criação do Vídeo Processado**  \n",
        "   - Um vídeo com todas as detecções marcadas é gerado para futura análise.  \n",
        "\n",
        "Essa abordagem permite que a equipe de segurança **reaja rapidamente** a situações de risco, melhorando a eficácia do monitoramento.\n",
        "\n",
        "---\n",
        "\n",
        "#### Tecnologias e Ferramentas\n",
        "\n",
        "Para implementar o projeto, utilizamos diversas **ferramentas e bibliotecas especializadas**:\n",
        "\n",
        "- **YOLOv8** → Modelo de detecção de objetos em tempo real.  \n",
        "- **OpenCV** → Manipulação de imagens e vídeos.  \n",
        "- **Flask** → Interface web para upload e processamento de vídeos.  \n",
        "- **FFmpeg** → Geração de vídeos processados com anotações.  \n",
        "- **smtplib** → Envio de alertas por e-mail.  \n",
        "- **Python** → Linguagem utilizada para integrar todas as funcionalidades.  \n",
        "\n",
        "Essas tecnologias foram escolhidas por sua **eficiência e compatibilidade** com o cenário de monitoramento de segurança.\n",
        "\n",
        "---\n",
        "\n",
        "#### Conclusão da Fundamentação Teórica\n",
        "\n",
        "A detecção de objetos cortantes em vídeos é um problema complexo que requer **algoritmos rápidos e precisos**. Com a utilização de **YOLOv8**, conseguimos processar vídeos **em tempo real**, garantindo que alertas sejam gerados de maneira eficiente.\n",
        "\n",
        "A combinação de **inteligência artificial, processamento de vídeo e automação de notificações** possibilita a criação de um **sistema de monitoramento inteligente**, capaz de **aumentar a segurança em ambientes diversos**.\n",
        "\n",
        "Na próxima seção, detalharemos a **metodologia utilizada** para a implementação desse sistema, incluindo a estrutura dos dados e o fluxo de desenvolvimento do projeto."
      ]
    },
    {
      "cell_type": "markdown",
      "metadata": {
        "id": "gkbpV7v-rDrm"
      },
      "source": [
        "### 4. Metodologia\n",
        "\n",
        "#### Descrição do Conjunto de Dados\n",
        "\n",
        "Para a implementação da aplicação de **monitoramento de segurança com IA**, utilizamos vídeos contendo **ambientes simulados de risco**, nos quais podem estar presentes **objetos cortantes**, como **facas e tesouras**. O modelo de detecção foi treinado previamente com o **dataset COCO**, que contém diversas classes de objetos, incluindo aquelas de interesse para este projeto.\n",
        "\n",
        "As principais características dos vídeos analisados são:\n",
        "\n",
        "- **Cenários internos e externos** com diferentes condições de iluminação.  \n",
        "- **Presença de múltiplas pessoas**, para avaliar a proximidade entre humanos e objetos cortantes.  \n",
        "- **Movimentação dinâmica**, para testar a eficácia do modelo em detectar objetos mesmo em situações de rápida movimentação.  \n",
        "\n",
        "O objetivo é verificar se o modelo **YOLOv8** consegue identificar corretamente os objetos cortantes nesses cenários, gerando alertas quando necessário.\n",
        "\n",
        "---\n",
        "\n",
        "#### Pré-processamento dos Dados\n",
        "\n",
        "O **pré-processamento do vídeo** foi realizado diretamente durante a análise em tempo real e incluiu as seguintes etapas:\n",
        "\n",
        "1. **Leitura do Vídeo:**  \n",
        "   - Utilizamos a biblioteca **OpenCV** para capturar os frames do vídeo e enviá-los para análise.  \n",
        "\n",
        "2. **Conversão e Ajuste de Imagem:**  \n",
        "   - Cada frame foi **redimensionado e normalizado** para ser compatível com o modelo YOLOv8.  \n",
        "   - Ajustes de **brilho e contraste** foram aplicados para melhorar a detecção em condições de baixa luminosidade.  \n",
        "\n",
        "3. **Filtragem de Regiões de Interesse:**  \n",
        "   - Apenas as áreas contendo **objetos cortantes e pessoas** foram analisadas.  \n",
        "   - Aplicação de **técnicas de Intersection over Union (IoU)** para determinar a relação entre o objeto cortante e a pessoa mais próxima.  \n",
        "\n",
        "Esses ajustes garantem que a detecção seja **eficiente e precisa**, minimizando falsos positivos e evitando o processamento de áreas irrelevantes do vídeo.\n",
        "\n",
        "---\n",
        "\n",
        "#### Implementação das Funcionalidades\n",
        "\n",
        "#### Detecção de Objetos Cortantes\n",
        "\n",
        "1. **Modelo Utilizado:**  \n",
        "   - **YOLOv8**, um dos modelos mais eficientes para **detecção em tempo real**.  \n",
        "   - Foi carregado o modelo **pré-treinado em COCO**, que já reconhece facas e tesouras.\n",
        "   - Realizamos um treino adicional com um dataset com imagens de facas, para aprimorar o reconhecimento.\n",
        "\n",
        "2. **Processo de Detecção:**  \n",
        "   - Cada frame foi analisado individualmente para identificar **facas e tesouras**.  \n",
        "   - Foram aplicadas **métricas de confiança e sobreposição (IoU)** para avaliar a precisão das detecções.  \n",
        "   - Apenas objetos com **confiança acima de 25%** foram considerados relevantes.  \n",
        "\n",
        "3. **Registro dos Resultados:**  \n",
        "   - As detecções foram armazenadas junto com as coordenadas do objeto no vídeo.  \n",
        "   - Frames críticos foram salvos para uso posterior em análise forense ou relatórios.  \n",
        "\n",
        "---\n",
        "\n",
        "#### Algoritmo de Análise de Risco\n",
        "\n",
        "Para determinar se uma detecção deve gerar um alerta, utilizamos um **algoritmo de análise de risco** com as seguintes regras:\n",
        "\n",
        "1. **Proximidade com Pessoas:**  \n",
        "   - Se um objeto cortante for identificado próximo a uma pessoa (**IoU maior que 10%**), o alerta é acionado.  \n",
        "   \n",
        "2. **Tempo entre Alertas:**  \n",
        "   - Implementamos um **cooldown de 5 segundos**, para evitar alertas consecutivos para o mesmo objeto.  \n",
        "\n",
        "3. **Confirmação Visual:**  \n",
        "   - O sistema destaca os objetos detectados e exibe os alertas no vídeo processado.  \n",
        "\n",
        "Essas regras permitem que o sistema seja **mais preciso**, reduzindo falsos positivos e garantindo que apenas **situações de risco reais sejam notificadas**.\n",
        "\n",
        "---\n",
        "\n",
        "#### Geração de Alertas e Notificações\n",
        "\n",
        "1. **Captura do Frame do Alerta:**  \n",
        "   - Quando um objeto cortante é detectado em uma situação de risco, um **frame do momento exato** é salvo.  \n",
        "\n",
        "2. **Registro com Timestamp:**  \n",
        "   - Cada alerta recebe um **timestamp** indicando **a exata posição no vídeo** onde o evento ocorreu.  \n",
        "\n",
        "3. **Envio de Notificação (E-mail ou Log):**  \n",
        "   - O sistema pode ser configurado para **enviar e-mails automáticos** contendo os alertas registrados.  \n",
        "   - Caso o envio de e-mails não esteja ativado, **os alertas são armazenados em um log interno**.  \n",
        "\n",
        "4. **Criação do Vídeo Processado:**  \n",
        "   - Um **vídeo editado** é gerado, destacando todas as detecções feitas pelo sistema.  \n",
        "   - Esse vídeo pode ser analisado posteriormente por profissionais de segurança.  \n",
        "\n",
        "---\n",
        "\n",
        "#### Geração de Relatórios\n",
        "\n",
        "1. **Compilação de Métricas:**  \n",
        "   - O sistema gera estatísticas, como:  \n",
        "     - **Número total de frames analisados.**  \n",
        "     - **Quantidade de objetos cortantes detectados.**  \n",
        "     - **Percentual de detecções associadas a risco real (proximidade com pessoas).**  \n",
        "\n",
        "2. **Automação do Relatório:**  \n",
        "   - Todas as detecções são organizadas automaticamente e podem ser exportadas para um **relatório PDF**.  \n",
        "\n",
        "3. **Visualização e Análise dos Resultados:**  \n",
        "   - As informações dos alertas podem ser acessadas na interface web do sistema.  \n",
        "   - O relatório pode ser enviado para as equipes responsáveis pela segurança do local monitorado.  \n",
        "\n",
        "---\n",
        "\n",
        "Com essa **metodologia estruturada**, garantimos que o sistema seja capaz de **detectar objetos cortantes com alta precisão**, filtrar alertas irrelevantes e **gerar notificações úteis para aumentar a segurança em ambientes monitorados**.\n",
        "\n",
        "Na próxima seção, abordaremos a **implementação prática do projeto**, incluindo a estrutura do código e as ferramentas utilizadas."
      ]
    },
    {
      "cell_type": "markdown",
      "metadata": {
        "id": "KxSHWWJ-sdZY"
      },
      "source": [
        "### 5. Implementação\n",
        "\n",
        "---\n",
        "\n",
        "### **Ferramentas e Tecnologias Utilizadas**\n",
        "\n",
        "Para o desenvolvimento do projeto, empregamos as seguintes ferramentas e tecnologias:\n",
        "\n",
        "1. **Linguagem de Programação:**\n",
        "   - **Python:** Escolhida por sua vasta gama de bibliotecas voltadas para visão computacional, aprendizado de máquina e manipulação de dados.\n",
        "\n",
        "2. **Bibliotecas de Visão Computacional e Aprendizado de Máquina:**\n",
        "   - **OpenCV:** Para captura, manipulação de imagens e pré-processamento dos frames do vídeo.\n",
        "   - **Ultralytics YOLOv8:** Modelo pré-treinado utilizado para detecção de objetos em tempo real.\n",
        "   - **Torch:** Biblioteca para manipulação e execução do modelo YOLOv8.\n",
        "\n",
        "3. **Processamento de Vídeo e Visualização:**\n",
        "   - **FFmpeg:** Para geração de vídeos processados com as detecções destacadas.\n",
        "   - **Matplotlib:** Para exibição gráfica das métricas de detecção.\n",
        "\n",
        "4. **Sistema de Alertas e Notificações:**\n",
        "   - **smtplib:** Para envio de e-mails automáticos quando um objeto cortante for detectado.\n",
        "\n",
        "5. **Ambiente de Desenvolvimento:**\n",
        "   - **Google Colab:** Para desenvolvimento, execução e testes do código.\n",
        "   - **GitHub:** Para controle de versão e compartilhamento do código-fonte.\n",
        "\n",
        "---\n",
        "\n",
        "### **Estrutura do Código**\n",
        "\n",
        "O código foi organizado em módulos para facilitar a clareza, reusabilidade e manutenção. A estrutura principal é composta por:\n",
        "\n",
        "1. **Pré-processamento de Vídeo:**\n",
        "   - Captura dos frames do vídeo de entrada utilizando **OpenCV**.\n",
        "   - Conversão dos frames para um formato compatível com o **modelo YOLOv8**.\n",
        "   - Ajustes de brilho e contraste para melhorar a detecção.\n",
        "\n",
        "2. **Detecção de Objetos Cortantes:**\n",
        "   - Carregamento do modelo **YOLOv8** treinado em COCO.\n",
        "   - Identificação de **facas e tesouras** em cada frame do vídeo.\n",
        "   - Filtragem de detecções com **confiança superior a 25%**.\n",
        "\n",
        "3. **Análise de Risco e Geração de Alertas:**\n",
        "   - Identificação da proximidade entre objetos cortantes e pessoas.\n",
        "   - Cálculo do **Intersection over Union (IoU)** para verificar sobreposição.\n",
        "   - Aplicação de um **cooldown de 5 segundos** para evitar alertas duplicados.\n",
        "   - Envio de notificações via **e-mail (SMTP)** ou registro em **log interno**.\n",
        "\n",
        "4. **Geração do Vídeo Processado:**\n",
        "   - Uso do **FFmpeg** para gerar um vídeo editado com as detecções destacadas.\n",
        "   - Adição de caixas delimitadoras e rótulos sobre os objetos detectados.\n",
        "\n",
        "5. **Geração de Relatórios e Métricas:**\n",
        "   - Compilação de informações como:\n",
        "     - **Número total de frames analisados.**\n",
        "     - **Quantidade de objetos cortantes detectados.**\n",
        "     - **Porcentagem de detecções associadas a risco real.**\n",
        "   - Exportação dos dados para **um relatório PDF automático**.\n",
        "\n",
        "---\n",
        "\n",
        "### **Fluxo de Trabalho do Código**\n",
        "\n",
        "1. **Inicialização do Vídeo e Modelo de IA:**\n",
        "   - O usuário envia um **vídeo de entrada** via interface web.\n",
        "   - O modelo **YOLOv8** é carregado e preparado para análise.\n",
        "\n",
        "2. **Processamento de Frames e Detecção de Objetos:**\n",
        "   - O vídeo é analisado **frame a frame**.\n",
        "   - Objetos cortantes são identificados e **classificados** com base na confiança do modelo.\n",
        "   - Se um objeto for detectado, um **alerta visual é sobreposto ao vídeo**.\n",
        "\n",
        "3. **Análise de Risco e Notificações:**\n",
        "   - Se um objeto cortante estiver **próximo a uma pessoa**, o alerta é acionado.\n",
        "   - Se um alerta já foi gerado recentemente, o sistema aguarda o **cooldown** antes de disparar um novo.\n",
        "   - As informações dos alertas são **registradas em logs ou enviadas por e-mail**.\n",
        "\n",
        "4. **Geração do Vídeo Processado:**\n",
        "   - O vídeo é salvo com todas as marcações visuais adicionadas.\n",
        "   - O arquivo final pode ser baixado pelo usuário ou armazenado para análise posterior.\n",
        "\n",
        "5. **Criação do Relatório Final:**\n",
        "   - Após o processamento completo do vídeo, as métricas são compiladas.\n",
        "   - Um **relatório PDF** é gerado contendo todas as detecções e estatísticas do sistema.\n",
        "\n",
        "---\n",
        "\n",
        "### **Código de Implementação**"
      ]
    },
    {
      "cell_type": "markdown",
      "source": [
        "### 5.1 Explicação do Código\n",
        "\n",
        "A implementação do sistema foi dividida em três arquivos principais:\n",
        "\n",
        "1. **app.py** - Responsável pela interface web e pelo gerenciamento das requisições do usuário.\n",
        "2. **train_yolo.py** - Responsável pelo treinamento do modelo YOLOv8 customizado.\n",
        "3. **security_system.py** - Responsável pelo processamento do vídeo e detecção de objetos cortantes.\n",
        "\n",
        "A seguir, detalhamos cada parte do código, explicando seu funcionamento."
      ],
      "metadata": {
        "id": "fXgpRRbpTcWk"
      }
    },
    {
      "cell_type": "markdown",
      "source": [
        "### app.py - Interface Web e Gerenciamento de Processos"
      ],
      "metadata": {
        "id": "eFwPk_X0ToZn"
      }
    },
    {
      "cell_type": "code",
      "source": [
        "from flask import Flask, render_template, request, redirect, url_for\n",
        "import subprocess\n",
        "import os\n",
        "from datetime import datetime\n",
        "from humanize import naturaltime\n",
        "from threading import Thread, Lock\n",
        "import time\n",
        "import json"
      ],
      "metadata": {
        "id": "nMtFiFh-Tt67"
      },
      "execution_count": null,
      "outputs": []
    },
    {
      "cell_type": "markdown",
      "source": [
        "Importação das bibliotecas necessárias para:\n",
        "- Criar a interface web usando Flask.\n",
        "- Executar comandos no terminal (subprocess).\n",
        "- Manipular arquivos e diretórios (os).\n",
        "- Controlar datas e timestamps (datetime).\n",
        "- Melhorar a exibição do tempo decorrido (humanize).\n",
        "- Gerenciar execução de processos assíncronos com Thread e Lock."
      ],
      "metadata": {
        "id": "Wi1LvmUqTz8O"
      }
    },
    {
      "cell_type": "code",
      "source": [
        "app = Flask(__name__)\n",
        "app.config['UPLOAD_FOLDER'] = 'uploads'\n",
        "app.config['ALLOWED_EXTENSIONS'] = {'mp4', 'avi', 'mov'}\n",
        "\n",
        "# Garante que os diretórios existam\n",
        "os.makedirs(app.config['UPLOAD_FOLDER'], exist_ok=True)\n",
        "os.makedirs('static/results', exist_ok=True)\n",
        "os.makedirs('processed', exist_ok=True)"
      ],
      "metadata": {
        "id": "y8i21SXVT9rN"
      },
      "execution_count": null,
      "outputs": []
    },
    {
      "cell_type": "markdown",
      "source": [
        "- Inicializa a aplicação Flask e define a pasta onde os vídeos enviados serão armazenados.\n",
        "- Permite apenas arquivos de vídeo nos formatos MP4, AVI e MOV.\n",
        "- Cria diretórios necessários para armazenar vídeos e resultados processados."
      ],
      "metadata": {
        "id": "KjBkum1IT-tv"
      }
    },
    {
      "cell_type": "code",
      "source": [
        "# Dicionário para armazenar status dos processamentos\n",
        "process_status = {}\n",
        "status_lock = Lock()"
      ],
      "metadata": {
        "id": "6Eb4MtTgUKE5"
      },
      "execution_count": null,
      "outputs": []
    },
    {
      "cell_type": "markdown",
      "source": [
        "- Um dicionário global process_status mantém o estado de cada vídeo processado.\n",
        "- Um lock (trava) status_lock é usado para garantir que o status não seja atualizado por múltiplas threads simultaneamente."
      ],
      "metadata": {
        "id": "sJEF_ZaRUK94"
      }
    },
    {
      "cell_type": "code",
      "source": [
        "@app.route('/')\n",
        "def index():\n",
        "    return render_template('index.html')"
      ],
      "metadata": {
        "id": "T6Z-KLBnUSXe"
      },
      "execution_count": null,
      "outputs": []
    },
    {
      "cell_type": "markdown",
      "source": [
        "- Rota inicial da aplicação que carrega a página index.html, onde o usuário pode fazer upload de vídeos."
      ],
      "metadata": {
        "id": "P9NLtPVpUTKj"
      }
    },
    {
      "cell_type": "markdown",
      "source": [
        "#### Processamento de Vídeo - Execução Assíncrona"
      ],
      "metadata": {
        "id": "7p8xPIZDUcfR"
      }
    },
    {
      "cell_type": "code",
      "source": [
        "def process_video_async(process_id, input_path, alert_dir):\n",
        "    try:\n",
        "        print(f\"Iniciando processamento: {process_id}\")\n",
        "        # Executa o processamento chamando security_system.py\n",
        "        result = subprocess.run([\n",
        "            'python', 'security_system.py',\n",
        "            '--input', input_path,\n",
        "            '--alert_dir', alert_dir\n",
        "        ], capture_output=True, text=True)\n",
        "\n",
        "        with status_lock:\n",
        "            if result.returncode == 0:\n",
        "                process_status[process_id] = 'completed'\n",
        "            else:\n",
        "                process_status[process_id] = f'error: {result.stderr}'\n",
        "\n",
        "        print(f\"Processamento {process_id} completo\")\n",
        "\n",
        "    except Exception as e:\n",
        "        with status_lock:\n",
        "            process_status[process_id] = f'error: {str(e)}'"
      ],
      "metadata": {
        "id": "idlLpaiVUfhj"
      },
      "execution_count": null,
      "outputs": []
    },
    {
      "cell_type": "markdown",
      "source": [
        "- Executa o script security_system.py de forma assíncrona para processar o vídeo.\n",
        "- Armazena o status do processamento (em andamento, concluído ou erro).\n",
        "- Utiliza subprocess.run() para chamar o script de processamento."
      ],
      "metadata": {
        "id": "JexV85TBUjBz"
      }
    },
    {
      "cell_type": "markdown",
      "source": [
        "#### Upload e Processamento de Vídeo"
      ],
      "metadata": {
        "id": "hcrmSDdxUq8n"
      }
    },
    {
      "cell_type": "code",
      "source": [
        "@app.route('/process', methods=['POST'])\n",
        "def process_video():\n",
        "    if 'file' not in request.files:\n",
        "        return redirect(request.url)\n",
        "\n",
        "    file = request.files['file']\n",
        "    if file.filename == '':\n",
        "        return redirect(request.url)\n",
        "\n",
        "    if file and allowed_file(file.filename):\n",
        "        process_id = datetime.now().strftime(\"%Y%m%d_%H%M%S_%f\")\n",
        "        alert_dir = os.path.join('static', 'alerts', f\"process_{process_id}\")\n",
        "        os.makedirs(alert_dir, exist_ok=True)\n",
        "\n",
        "        input_path = os.path.join(alert_dir, \"original_video.mp4\")\n",
        "        file.save(input_path)\n",
        "\n",
        "        with status_lock:\n",
        "            process_status[process_id] = 'processing'\n",
        "\n",
        "        Thread(target=process_video_async, args=(process_id, input_path, alert_dir)).start()\n",
        "\n",
        "        response = redirect(url_for('list_processes'))\n",
        "        response.set_cookie('latest_process', process_id)\n",
        "        return response\n",
        "\n",
        "    return redirect(request.url)"
      ],
      "metadata": {
        "id": "G_MsdwxiUs8l"
      },
      "execution_count": null,
      "outputs": []
    },
    {
      "cell_type": "markdown",
      "source": [
        "- Recebe o upload do vídeo e salva o arquivo na pasta static/alerts/process_id.\n",
        "- Cria um identificador único process_id para cada processamento.\n",
        "- Inicia o processamento em uma thread separada para não travar a interface.\n",
        "- Redireciona o usuário para a lista de vídeos processados."
      ],
      "metadata": {
        "id": "H-YquwkVUvdo"
      }
    },
    {
      "cell_type": "markdown",
      "source": [
        "### train_yolo.py - Treinamento do modelo Yolov8 customizado\n"
      ],
      "metadata": {
        "id": "4csC5RE2CzaH"
      }
    },
    {
      "cell_type": "code",
      "source": [
        "from ultralytics import YOLO\n",
        "import shutil\n",
        "import os\n",
        "\n",
        "pretrained_model_path = \"models/yolov8n.pt\"\n",
        "\n",
        "final_model_path = \"models/best.pt\"\n",
        "\n",
        "os.makedirs(\"models\", exist_ok=True)"
      ],
      "metadata": {
        "id": "lnxiRoy2DTSk"
      },
      "execution_count": null,
      "outputs": []
    },
    {
      "cell_type": "markdown",
      "source": [
        "- pretrained_model_path → Define o caminho do modelo YOLOv8 pré-treinado dentro da pasta models/, garantindo uma organização clara.\n",
        "- final_model_path → Especifica o local onde o modelo treinado será salvo, evitando arquivos dispersos.\n",
        "- os.makedirs(\"models\", exist_ok=True) → Garante que a pasta models/ exista antes do treinamento, prevenindo erros."
      ],
      "metadata": {
        "id": "yLDBbZD8DUtc"
      }
    },
    {
      "cell_type": "code",
      "source": [
        "model = YOLO(pretrained_model_path)"
      ],
      "metadata": {
        "id": "z9INJ3zADdQv"
      },
      "execution_count": null,
      "outputs": []
    },
    {
      "cell_type": "markdown",
      "source": [
        "- YOLO(pretrained_model_path) → Carrega o modelo YOLOv8 pré-treinado para ser ajustado com os novos dados."
      ],
      "metadata": {
        "id": "e4_sQ6U4DhLg"
      }
    },
    {
      "cell_type": "code",
      "source": [
        "model.train(\n",
        "    data=\"dataset/data.yaml\",  # Caminho para o arquivo de configuração do dataset\n",
        "    epochs=50,  # Número de épocas de treinamento\n",
        "    batch=16,  # Tamanho do batch\n",
        "    imgsz=640,  # Tamanho das imagens usadas no treinamento\n",
        "    workers=4,  # Número de threads para carregamento de dados\n",
        "    device=\"cuda\",  # Usa GPU se disponível, senão usa CPU\n",
        "    project=\"models\",  # Define onde os arquivos serão salvos\n",
        "    name=\"train_run\",  # Nome da pasta de saída dentro de \"models/\"\n",
        "    exist_ok=True  # Reutiliza a pasta sem sobrescrever conteúdos antigos\n",
        ")"
      ],
      "metadata": {
        "id": "yugXNcHEDle4"
      },
      "execution_count": null,
      "outputs": []
    },
    {
      "cell_type": "markdown",
      "source": [
        "- data=\"dataset/data.yaml\" → Aponta para o arquivo de configuração do dataset, onde estão definidos os caminhos das imagens.\n",
        "- epochs=50 → Define o número de épocas do treinamento. Um número maior pode melhorar a precisão, mas aumenta o tempo de treino.\n",
        "- batch=16 → Define o tamanho do batch, que pode ser ajustado conforme a memória disponível da GPU.\n",
        "- imgsz=640 → Define o tamanho das imagens de entrada. Valores maiores podem melhorar a precisão, mas exigem mais memória.\n",
        "- workers=4 → Usa múltiplos threads para carregar os dados mais rapidamente.\n",
        "- device=\"cuda\" → Usa a GPU para acelerar o treinamento, se disponível. Caso contrário, pode ser alterado para \"cpu\".\n",
        "- project=\"models\" → Especifica a pasta onde os arquivos do treinamento serão salvos.\n",
        "- name=\"train_run\" → Nomeia o treinamento, criando uma subpasta models/train_run/.\n",
        "- exist_ok=True → Evita erros caso a pasta já exista, permitindo reutilizar experimentos."
      ],
      "metadata": {
        "id": "PMwEjKrvDtfE"
      }
    },
    {
      "cell_type": "code",
      "source": [
        "trained_model_path = \"models/train_run/weights/best.pt\"\n",
        "\n",
        "shutil.move(trained_model_path, final_model_path)\n",
        "\n",
        "print(f\"Treinamento concluído! O modelo treinado foi salvo em '{final_model_path}'\")"
      ],
      "metadata": {
        "id": "R7WmqDxcD7qo"
      },
      "execution_count": null,
      "outputs": []
    },
    {
      "cell_type": "markdown",
      "source": [
        "- trained_model_path → Define o caminho do modelo gerado pelo YOLO.\n",
        "- shutil.move(trained_model_path, final_model_path) → Move o modelo de train_run/weights/best.pt para models/best.pt, garantindo que sempre possamos acessá-lo sem precisar verificar subpastas.\n",
        "- Exibe uma mensagem confirmando que o modelo foi salvo com sucesso."
      ],
      "metadata": {
        "id": "8HNwZEBmD9TC"
      }
    },
    {
      "cell_type": "markdown",
      "source": [
        "### security_system.py - Processamento de Vídeo e Detecção de Objetos"
      ],
      "metadata": {
        "id": "TFGYGPTQU4fd"
      }
    },
    {
      "cell_type": "code",
      "source": [
        "import cv2\n",
        "import smtplib\n",
        "from datetime import datetime\n",
        "from ultralytics import YOLO\n",
        "from typing import Optional, List\n",
        "import os\n",
        "import argparse\n",
        "import subprocess"
      ],
      "metadata": {
        "id": "FG2YlFUVU8Cm"
      },
      "execution_count": null,
      "outputs": []
    },
    {
      "cell_type": "markdown",
      "source": [
        "- Importação das bibliotecas necessárias para processamento de vídeo, detecção de objetos e envio de alertas.\n",
        "- YOLO será utilizado para detecção de objetos cortantes.\n",
        "- OpenCV será usado para captura e manipulação dos frames do vídeo."
      ],
      "metadata": {
        "id": "bBhu2Vq1VBrG"
      }
    },
    {
      "cell_type": "markdown",
      "source": [
        "#### Inicialização do Detector de Segurança"
      ],
      "metadata": {
        "id": "mkiy8AppVKFw"
      }
    },
    {
      "cell_type": "code",
      "source": [
        "class SecurityMonitor:\n",
        "    def __init__(self, model_path: str = 'best.pt', alert_threshold: float = 0.25):\n",
        "        self.model = YOLO(model_path)  # Carrega o modelo YOLOv8 pré-treinado\n",
        "        self.classes_of_interest = [43, 76]  # IDs do COCO dataset para facas e tesouras\n",
        "        self.alert_threshold = alert_threshold\n",
        "        self.last_alert_time = None"
      ],
      "metadata": {
        "id": "FBoTGClJVMO_"
      },
      "execution_count": null,
      "outputs": []
    },
    {
      "cell_type": "markdown",
      "source": [
        "- Carrega o modelo YOLOv8 para detecção de facas e tesouras.\n",
        "- Define um limiar mínimo de confiança (0.25) para filtrar detecções fracas.\n",
        "- Armazena a última vez que um alerta foi emitido (last_alert_time)."
      ],
      "metadata": {
        "id": "v7oVxlx3VQqW"
      }
    },
    {
      "cell_type": "markdown",
      "source": [
        "#### Detecção de Objetos nos Frames"
      ],
      "metadata": {
        "id": "mc_9nNXwVXQg"
      }
    },
    {
      "cell_type": "code",
      "source": [
        "def detect_objects(self, frame):\n",
        "    results = self.model(frame, verbose=False)[0]\n",
        "    people = [box for box in results.boxes if int(box.cls) == 0]\n",
        "    objects = [box for box in results.boxes if int(box.cls) in self.classes_of_interest]\n",
        "\n",
        "    return objects, people"
      ],
      "metadata": {
        "id": "ZsJoXDbKVY_6"
      },
      "execution_count": null,
      "outputs": []
    },
    {
      "cell_type": "markdown",
      "source": [
        "- Utiliza YOLOv8 para identificar objetos em cada frame.\n",
        "- Filtra pessoas (classe 0) e objetos cortantes (facas e tesouras)."
      ],
      "metadata": {
        "id": "2dMdHOEXVcsG"
      }
    },
    {
      "cell_type": "markdown",
      "source": [
        "#### Geração de Alertas"
      ],
      "metadata": {
        "id": "rz9tUM6OViTv"
      }
    },
    {
      "cell_type": "code",
      "source": [
        "def should_alert(self) -> bool:\n",
        "    if not self.last_alert_time:\n",
        "        return True\n",
        "\n",
        "    elapsed = (datetime.now() - self.last_alert_time).total_seconds()\n",
        "    return elapsed >= self.alert_cooldown"
      ],
      "metadata": {
        "id": "J8HB0FDoVl4E"
      },
      "execution_count": null,
      "outputs": []
    },
    {
      "cell_type": "markdown",
      "source": [
        "- Implementa um cooldown para evitar alertas consecutivos."
      ],
      "metadata": {
        "id": "ShOpZ2b0VqXY"
      }
    },
    {
      "cell_type": "markdown",
      "source": [
        "#### Processamento de Vídeo"
      ],
      "metadata": {
        "id": "0Sv5zHqXV18W"
      }
    },
    {
      "cell_type": "code",
      "source": [
        "def process_video(input_path: str, alert_dir: str) -> str:\n",
        "    cap = cv2.VideoCapture(input_path)\n",
        "    while cap.isOpened():\n",
        "        success, frame = cap.read()\n",
        "        if not success:\n",
        "            break\n",
        "\n",
        "        detections, people = monitor.detect_objects(frame)\n",
        "\n",
        "        if detections and monitor.should_alert():\n",
        "            monitor.update_alert_time()"
      ],
      "metadata": {
        "id": "3R_pidpwV7Oj"
      },
      "execution_count": null,
      "outputs": []
    },
    {
      "cell_type": "markdown",
      "source": [
        "- Lê o vídeo frame a frame e processa cada imagem.\n",
        "- Verifica se um alerta deve ser acionado com base na proximidade dos objetos cortantes."
      ],
      "metadata": {
        "id": "QCU6MjsdV54n"
      }
    },
    {
      "cell_type": "markdown",
      "source": [
        "### 6. Conclusão\n",
        "\n",
        "O projeto desenvolvido no contexto do **Hackathon - Fase 5** demonstrou a viabilidade da utilização de **Inteligência Artificial para detecção de objetos cortantes em vídeos de segurança**, utilizando modelos avançados de **visão computacional**.\n",
        "\n",
        "### **6.1 Principais Conquistas**\n",
        "Durante a implementação do sistema, alcançamos os seguintes marcos:\n",
        "\n",
        "**Utilização do YOLOv8 para detecção em tempo real**  \n",
        "   - Implementamos um modelo eficiente capaz de detectar **facas e tesouras** com alta precisão.  \n",
        "\n",
        "**Processamento automatizado de vídeos**  \n",
        "   - Criamos um sistema que recebe um vídeo, analisa quadro a quadro e **gera um vídeo processado** destacando os objetos cortantes.  \n",
        "\n",
        "**Geração de alertas automáticos**  \n",
        "   - Sempre que um objeto cortante é identificado próximo a uma pessoa, o sistema pode gerar **notificações**, possibilitando a prevenção de incidentes.  \n",
        "\n",
        "**Interface web para envio e acompanhamento de vídeos**  \n",
        "   - Desenvolvemos um painel utilizando **Flask**, permitindo que o usuário envie arquivos, acompanhe o processamento e visualize os alertas gerados.  \n",
        "\n",
        "---\n",
        "\n",
        "### **6.2 Desafios Enfrentados**\n",
        "Durante o desenvolvimento, enfrentamos alguns desafios técnicos:\n",
        "\n",
        "**Falsos positivos e negativos**  \n",
        "   - Alguns objetos metálicos, como talheres e ferramentas, foram erroneamente identificados como facas.  \n",
        "   - Em alguns casos, facas parcialmente ocultas não foram detectadas corretamente pelo modelo YOLOv8.  \n",
        "\n",
        "**Ajuste dos parâmetros do modelo**  \n",
        "   - Definir um **limiar de confiança adequado** para evitar falsos positivos e garantir que objetos cortantes fossem corretamente detectados.  \n",
        "\n",
        "**Integração entre detecção e envio de alertas**  \n",
        "   - Implementamos um **cooldown para evitar alertas duplicados**, garantindo que notificações não fossem geradas de forma excessiva.  \n",
        "\n",
        "---\n",
        "\n",
        "### **6.3 Possíveis Melhorias e Próximos Passos**\n",
        "Para tornar o sistema ainda mais robusto e preciso, algumas melhorias podem ser implementadas:\n",
        "\n",
        "**Treinamento de um modelo especializado**  \n",
        "   - O YOLOv8 utilizado foi treinado no dataset COCO, que inclui diversos objetos.  \n",
        "   - Podemos **treinar um modelo específico apenas para detecção de objetos cortantes**, reduzindo erros e aumentando a precisão.  \n",
        "\n",
        "**Aprimoramento da análise de risco**  \n",
        "   - Atualmente, utilizamos **Intersection over Union (IoU) ≥ 10%** para verificar proximidade entre pessoas e objetos cortantes.  \n",
        "   - Poderíamos **ajustar dinamicamente esse valor** conforme o contexto da câmera e do ambiente.  \n",
        "\n",
        "**Integração com sistemas de segurança reais**  \n",
        "   - O sistema pode ser integrado a **redes de câmeras de segurança**, permitindo a análise de múltiplos fluxos de vídeo em tempo real.  \n",
        "   - Outra possibilidade é conectar o sistema a **dispositivos IoT**, acionando alarmes automáticos quando um objeto cortante for detectado.  \n",
        "\n",
        "---\n",
        "\n",
        "### **6.4 Considerações Finais**\n",
        "O projeto demonstrou o grande potencial da **Inteligência Artificial aplicada à segurança**, permitindo a criação de um sistema capaz de **detectar automaticamente ameaças e gerar alertas preventivos**.  \n",
        "\n",
        "Com algumas melhorias, essa tecnologia pode ser utilizada **em ambientes comerciais, aeroportos, escolas e outros locais onde a segurança é uma prioridade**.  \n",
        "\n",
        "A implementação do **YOLOv8**, combinada com um **fluxo de processamento eficiente**, possibilitou a entrega de um **MVP funcional**, validando a proposta e demonstrando a viabilidade da solução.  \n",
        "\n",
        "**Este trabalho reforça a importância da IA em sistemas de monitoramento e segurança, abrindo portas para novas aplicações e aprimoramentos no futuro.**"
      ],
      "metadata": {
        "id": "JXsHa1bv1izi"
      }
    }
  ],
  "metadata": {
    "colab": {
      "provenance": [],
      "machine_shape": "hm",
      "gpuType": "L4"
    },
    "kernelspec": {
      "display_name": "Python 3",
      "name": "python3"
    },
    "language_info": {
      "name": "python"
    },
    "accelerator": "GPU"
  },
  "nbformat": 4,
  "nbformat_minor": 0
}